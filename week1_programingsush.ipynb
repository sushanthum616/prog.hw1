{
  "nbformat": 4,
  "nbformat_minor": 0,
  "metadata": {
    "colab": {
      "provenance": [],
      "authorship_tag": "ABX9TyM4O2JzaNyj0Y+7XTQferDx",
      "include_colab_link": true
    },
    "kernelspec": {
      "name": "python3",
      "display_name": "Python 3"
    },
    "language_info": {
      "name": "python"
    }
  },
  "cells": [
    {
      "cell_type": "markdown",
      "metadata": {
        "id": "view-in-github",
        "colab_type": "text"
      },
      "source": [
        "<a href=\"https://colab.research.google.com/github/sushanthum616/prog.hw1/blob/main/week1_programingsush.ipynb\" target=\"_parent\"><img src=\"https://colab.research.google.com/assets/colab-badge.svg\" alt=\"Open In Colab\"/></a>"
      ]
    },
    {
      "cell_type": "code",
      "execution_count": null,
      "metadata": {
        "id": "pYew_C4Y_2o3"
      },
      "outputs": [],
      "source": [
        "#ans.1\n",
        "a = input(\"Give input: \")\n",
        "\n",
        "def reverse(a):\n",
        "\n",
        "  result=a.split(\" \")\n",
        "\n",
        "  for char in result:\n",
        "\n",
        "   char =char[::-1]\n",
        "\n",
        "   result=\" \".join(char)\n",
        "\n",
        "  print(result, end=\" \")\n",
        "\n",
        "reverse(a)"
      ]
    },
    {
      "cell_type": "code",
      "source": [
        "#ans.2\n",
        "class answer(object):\n",
        " def add(s, n, t):\n",
        "  ans = [ ]\n",
        "\n",
        "  for a in range(len(n) - 1):\n",
        "    for b in range(a + 1, len(n)):\n",
        "     c = n[a] + n[b]\n",
        "     if c == t:\n",
        "      ans.append((a, b))\n",
        "  return ans\n",
        "\n",
        "print(answer().add([1,2,3,4], 7))"
      ],
      "metadata": {
        "id": "8wmkJpz6A1G5"
      },
      "execution_count": null,
      "outputs": []
    },
    {
      "cell_type": "code",
      "source": [
        "#ans.3\n",
        "num = input(\"enter a number: \")\n",
        "\n",
        "def main():\n",
        "\n",
        " if num == num[::-1]:\n",
        "      print(\"yes, it is a palindrome\")\n",
        "\n",
        " else:\n",
        "      print(\"no, it is not a palindrome\")\n",
        "\n",
        "main()"
      ],
      "metadata": {
        "id": "doHckoDBBlbN"
      },
      "execution_count": null,
      "outputs": []
    },
    {
      "cell_type": "code",
      "source": [
        "#ans.4\n",
        "def longest_Common_Prefix(str1):\n",
        "    \n",
        "    if not str1:\n",
        "        return \"\"\n",
        "\n",
        "    short = min(str1,key=len)\n",
        "\n",
        "    for i, char in enumerate(short):    \n",
        "        for other in str1:\n",
        "            if other[i] != char:\n",
        "                return short[:i]\n",
        "\n",
        "    return short \n",
        "\n",
        "print(longest_Common_Prefix([\"michael\", 'michelle', \"mitch\"]))"
      ],
      "metadata": {
        "colab": {
          "base_uri": "https://localhost:8080/"
        },
        "id": "MN4VEx3BCtss",
        "outputId": "5bb8cdc8-9a15-4690-abdc-772b6965b421"
      },
      "execution_count": 44,
      "outputs": [
        {
          "output_type": "stream",
          "name": "stdout",
          "text": [
            "mi\n"
          ]
        }
      ]
    },
    {
      "cell_type": "code",
      "source": [
        "#ans.5\n",
        "import math\n",
        "n = int(input(\"Enter the number of terms: \"))\n",
        "\n",
        "pi = 0\n",
        "\n",
        "for r in range(n):\n",
        "  term = ((-1) ** r) * (4 / (2 * r + 1))\n",
        "pi += term\n",
        "\n",
        "print(\"The calculated value of pi =\", pi)\n",
        "\n",
        "print(\"Actual pi value =\", math.pi)\n",
        "\n",
        "print(\"Difference =\", math.pi - pi)"
      ],
      "metadata": {
        "id": "gZcrcEhUEE7x"
      },
      "execution_count": null,
      "outputs": []
    },
    {
      "cell_type": "code",
      "source": [
        "#ans.6\n",
        "import math\n",
        "def newton_method(x,step):\n",
        "    p=1\n",
        "    guess = x/2\n",
        "    while p <= step:\n",
        "        guess = (guess + (x/guess)) / 2\n",
        "        p+=1\n",
        "    return guess\n",
        "value = newton_method(16, 4)\n",
        "print (value,'\\nThe required difference between them is : ', value - (math.sqrt(10)))"
      ],
      "metadata": {
        "id": "FsclJIu3NRqf"
      },
      "execution_count": null,
      "outputs": []
    }
  ]
}